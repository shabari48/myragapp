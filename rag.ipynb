{
 "cells": [
  {
   "cell_type": "code",
   "execution_count": 1,
   "metadata": {},
   "outputs": [],
   "source": [
    "import nest_asyncio\n",
    "import os\n",
    "from llama_index.core import StorageContext, load_index_from_storage,VectorStoreIndex\n",
    "from llama_parse import LlamaParse\n",
    "from llama_index.core import SimpleDirectoryReader\n",
    "\n",
    "LLIX_API_KEY = os.getenv(\"LLIX_APIKEY\")\n",
    "nest_asyncio.apply()\n"
   ]
  },
  {
   "cell_type": "code",
   "execution_count": 4,
   "metadata": {},
   "outputs": [],
   "source": [
    "parser = LlamaParse(\n",
    "    api_key=LLIX_API_KEY,  # can also be set in your env as LLAMA_CLOUD_API_KEY\n",
    "    result_type=\"text\",  # \"markdown\" and \"text\" are available\n",
    "    verbose=True,\n",
    ")\n"
   ]
  },
  {
   "cell_type": "code",
   "execution_count": null,
   "metadata": {},
   "outputs": [],
   "source": [
    "\n",
    "file_extractor = {\".pdf\": parser}\n",
    "documents = SimpleDirectoryReader(\n",
    "    \"./bcdata\", file_extractor=file_extractor\n",
    ").load_data(num_workers=4)\n"
   ]
  },
  {
   "cell_type": "code",
   "execution_count": null,
   "metadata": {},
   "outputs": [],
   "source": [
    "\n",
    "# Save the documents\n",
    "index = VectorStoreIndex.from_documents(documents)\n",
    "index.storage_context.persist(persist_dir=\"./storage\")"
   ]
  },
  {
   "cell_type": "code",
   "execution_count": null,
   "metadata": {},
   "outputs": [],
   "source": [
    "\n",
    "# Load the documents from storage\n",
    "storage_context = StorageContext.from_defaults(persist_dir=\"./storage\")\n",
    "index = load_index_from_storage(storage_context)"
   ]
  },
  {
   "cell_type": "markdown",
   "metadata": {},
   "source": [
    "for doc in documents:\n",
    "    print(doc.text)"
   ]
  },
  {
   "cell_type": "code",
   "execution_count": 7,
   "metadata": {},
   "outputs": [],
   "source": [
    "from llama_index.core import VectorStoreIndex, Settings\n",
    "from llama_index.embeddings.ollama import OllamaEmbedding\n",
    "from llama_index.llms.ollama import Ollama"
   ]
  },
  {
   "cell_type": "code",
   "execution_count": 8,
   "metadata": {},
   "outputs": [],
   "source": [
    "Settings.embed_model = OllamaEmbedding(model_name=\"nomic-embed-text\")"
   ]
  },
  {
   "cell_type": "code",
   "execution_count": 9,
   "metadata": {},
   "outputs": [],
   "source": [
    "Settings.llm = Ollama(model=\"llama3.2\", request_timeout=360.0)"
   ]
  },
  {
   "cell_type": "code",
   "execution_count": 14,
   "metadata": {},
   "outputs": [
    {
     "name": "stdout",
     "output_type": "stream",
     "text": [
      "The DAO (Decentralized Autonomous Organization) was a groundbreaking experiment in decentralized governance on the Ethereum blockchain. It was launched in April 2016 as a self-executing contract with smart rules, which allowed for decentralized decision-making.\n",
      "\n",
      "Imagine a traditional company where shareholders elect a board of directors to make decisions on behalf of the company. In the case of The DAO, it was a digital representation of this concept, where stakeholders voted on proposals and governance decisions through an automated process.\n",
      "\n",
      "The DAO's core innovation was its use of smart contracts, which were written in Solidity and deployed on the Ethereum blockchain. These contracts ensured that all actions taken by stakeholders would be transparent, immutable, and tamper-proof.\n",
      "\n",
      "The DAO was designed to manage a fund of Ether (the native cryptocurrency of Ethereum) raised through an initial coin offering (ICO). Its primary function was to distribute this fund among various projects and initiatives, while also providing a framework for stakeholders to vote on proposals.\n",
      "\n",
      "On June 16, 2016, The DAO was attacked by hackers who exploited a vulnerability in the contract. The attackers withdrew approximately $50 million worth of Ether from the DAO's treasury, which left the organization with severe financial losses.\n",
      "\n",
      "The aftermath of the attack highlighted several critical issues with the DAO model:\n",
      "\n",
      "1. **Lack of regulation**: Without clear governance mechanisms or regulatory oversight, stakeholders were unable to effectively address the situation.\n",
      "2. **Vulnerabilities in smart contracts**: The DAO's contract was exploited due to a simple reentrancy vulnerability, which could have been mitigated through more robust coding practices.\n",
      "\n",
      "The DAO attack led to significant discussions and improvements in the development of decentralized autonomous organizations (DAOs). Many experts now advocate for stronger regulatory frameworks, improved security measures, and more comprehensive testing processes to ensure the integrity of smart contracts.\n",
      "\n",
      "Despite the challenges it faced, The DAO remains an important milestone in the history of blockchain technology. Its innovative approach to governance and its attempts to create a decentralized platform for decision-making continue to inspire new ideas and research in the field.\n"
     ]
    }
   ],
   "source": [
    "query_engine = index.as_query_engine()\n",
    "question=input(\"Enter your question: \")\n",
    "response = query_engine.query(question)\n",
    "print(response)"
   ]
  }
 ],
 "metadata": {
  "kernelspec": {
   "display_name": "Python 3",
   "language": "python",
   "name": "python3"
  },
  "language_info": {
   "codemirror_mode": {
    "name": "ipython",
    "version": 3
   },
   "file_extension": ".py",
   "mimetype": "text/x-python",
   "name": "python",
   "nbconvert_exporter": "python",
   "pygments_lexer": "ipython3",
   "version": "3.13.0"
  }
 },
 "nbformat": 4,
 "nbformat_minor": 2
}
