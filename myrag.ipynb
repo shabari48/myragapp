{
 "cells": [
  {
   "cell_type": "code",
   "execution_count": null,
   "metadata": {},
   "outputs": [],
   "source": [
    "\n",
    "from llama_index.core import StorageContext, load_index_from_storage, Settings\n",
    "from llama_index.embeddings.ollama import OllamaEmbedding\n",
    "from llama_index.llms.ollama import Ollama"
   ]
  },
  {
   "cell_type": "code",
   "execution_count": 2,
   "metadata": {},
   "outputs": [],
   "source": [
    "# Set the embedding model to use Ollama\n",
    "Settings.embed_model = OllamaEmbedding(model_name=\"nomic-embed-text\")\n",
    "\n",
    "# Set the LLM model\n",
    "Settings.llm = Ollama(model=\"llama3.2\", request_timeout=360.0)"
   ]
  },
  {
   "cell_type": "code",
   "execution_count": 3,
   "metadata": {},
   "outputs": [],
   "source": [
    "storage_context = StorageContext.from_defaults(persist_dir=\"./storage\")\n",
    "index = load_index_from_storage(storage_context)"
   ]
  },
  {
   "cell_type": "code",
   "execution_count": null,
   "metadata": {},
   "outputs": [],
   "source": [
    "# Set up the query engine\n",
    "query_engine = index.as_query_engine(response_mode=\"verbose\",similarity_top_k=5)\n"
   ]
  },
  {
   "cell_type": "code",
   "execution_count": 11,
   "metadata": {},
   "outputs": [
    {
     "name": "stdout",
     "output_type": "stream",
     "text": [
      "For creating a simple storage in Solidity, you would use a contract with functions to set and get data. The example provided shows this exactly:\n",
      "\n",
      "```solidity\n",
      "pragma   solidity   >=0.4.16    <0.9.0;\n",
      "\n",
      "contract   SimpleStorage      {\n",
      "     uint  storedData;\n",
      "\n",
      "     function    set(uint   x)  public   {\n",
      "          storedData    =  x;\n",
      "     }\n",
      "\n",
      "     function    get()  public   view   returns\n",
      "(uint)   {\n",
      "          return   storedData;\n",
      "     }\n",
      "}\n",
      "```\n",
      "\n",
      "This contract, `SimpleStorage`, allows users to interact with the `storedData` through two functions: `set` and `get`. The `set` function is used to update the stored data, while the `get` function retrieves it.\n"
     ]
    }
   ],
   "source": [
    "question = input(\"Enter your question: \")\n",
    "response = query_engine.query(question)\n",
    "print(response)"
   ]
  }
 ],
 "metadata": {
  "kernelspec": {
   "display_name": "Python 3",
   "language": "python",
   "name": "python3"
  },
  "language_info": {
   "codemirror_mode": {
    "name": "ipython",
    "version": 3
   },
   "file_extension": ".py",
   "mimetype": "text/x-python",
   "name": "python",
   "nbconvert_exporter": "python",
   "pygments_lexer": "ipython3",
   "version": "3.13.0"
  }
 },
 "nbformat": 4,
 "nbformat_minor": 2
}
